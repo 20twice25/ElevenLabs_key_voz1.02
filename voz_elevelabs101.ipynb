{
 "cells": [
  {
   "cell_type": "markdown",
   "metadata": {},
   "source": [
    "Ejemplo de obtener voz seleccionando una voz con desplegable de la lista de voces, con api key incluida"
   ]
  },
  {
   "cell_type": "code",
   "execution_count": 6,
   "metadata": {},
   "outputs": [
    {
     "data": {
      "application/vnd.jupyter.widget-view+json": {
       "model_id": "7a4ea23844164a10970970013527c3d5",
       "version_major": 2,
       "version_minor": 0
      },
      "text/plain": [
       "Dropdown(description='Selecciona una voz:', options=('premade voice: Rachel', 'premade voice: Clyde', 'premade…"
      ]
     },
     "metadata": {},
     "output_type": "display_data"
    }
   ],
   "source": [
    "#Instalando las librerias correspondientes\n",
    "#pip install -q elevenlabs\n",
    "#pip install ipywidgets\n",
    "\n",
    "import tempfile\n",
    "import requests\n",
    "from IPython.display import Audio, clear_output\n",
    "from elevenlabs import generate, play, set_api_key, voices, Models\n",
    "\n",
    "#Colocando la Api key = 7a5s4d1asd6saas1da como ejemplo en \"<xi-api-key>\" \n",
    "#@title\n",
    "eleven_api_key = \"<xi-api-key>\" #@param {type:\"string\"}\n",
    "user = set_api_key(eleven_api_key)\n",
    "voice_list = voices()\n",
    "\n",
    "#Creando el selector o desplegable de la lista de voces de ElevenLabs incluso las creadas\n",
    "#@title\n",
    "import ipywidgets as widgets\n",
    "\n",
    "voice_labels = [voice.category + \" voice: \" + voice.name for voice in voice_list]\n",
    "voice_id_dropdown = widgets.Dropdown(options=voice_labels,\n",
    "                                     value=voice_labels[0],\n",
    "                                     description=\"Selecciona una voz:\")\n",
    "\n",
    "display(voice_id_dropdown)"
   ]
  },
  {
   "cell_type": "code",
   "execution_count": 7,
   "metadata": {},
   "outputs": [],
   "source": [
    "# Encuentra el índice de la opción seleccionada\n",
    "selected_voice_index = voice_labels.index(voice_id_dropdown.value)\n",
    "selected_voice_id    = voice_list[selected_voice_index].voice_id"
   ]
  },
  {
   "cell_type": "code",
   "execution_count": 8,
   "metadata": {},
   "outputs": [
    {
     "name": "stdout",
     "output_type": "stream",
     "text": [
      "{\"voice_id\":\"r6qQ4hIDdYb7J799oniw\",\"name\":\"ValeryIA\",\"samples\":[{\"sample_id\":\"I6EY90M4XNBBIGzRwmhQ\",\"file_name\":\"10101.mp3\",\"mime_type\":\"audio/mpeg\",\"size_bytes\":5343405,\"hash\":\"c2479361c11a323c523699a929fbc50e\"}],\"category\":\"cloned\",\"fine_tuning\":{\"language\":null,\"is_allowed_to_fine_tune\":false,\"fine_tuning_requested\":false,\"finetuning_state\":\"not_started\",\"verification_attempts\":null,\"verification_failures\":[],\"verification_attempts_count\":0,\"slice_ids\":null,\"manual_verification\":null,\"manual_verification_requested\":false},\"labels\":{},\"description\":\"An young girl of 20 years old.\",\"preview_url\":\"https://storage.googleapis.com/eleven-public-prod/5UGQCfLI6dbo90RYwqLTLUtbGqg2/voices/r6qQ4hIDdYb7J799oniw/5c459ae2-fba6-4cc1-a547-75bf76617388.mp3\",\"available_for_tiers\":[],\"settings\":null,\"sharing\":null,\"high_quality_base_model_ids\":[]}\n"
     ]
    }
   ],
   "source": [
    "#(Opcional) verificando que selected_voice_id este cumpliendo\n",
    "import requests\n",
    "CHUNK_SIZE = 1024\n",
    "url = \"https://api.elevenlabs.io/v1/voices/\" + selected_voice_id\n",
    "\n",
    "headers = {\n",
    "  \"Accept\": \"application/json\",\n",
    "  \"xi-api-key\": eleven_api_key\n",
    "}\n",
    "\n",
    "response = requests.get(url, headers=headers)\n",
    "\n",
    "print(response.text)"
   ]
  },
  {
   "cell_type": "code",
   "execution_count": 13,
   "metadata": {},
   "outputs": [
    {
     "name": "stdout",
     "output_type": "stream",
     "text": [
      "este sera el texto hola mi amor\n"
     ]
    }
   ],
   "source": [
    "texto_hablar = input(\"ingrese texto a hablar\")\n",
    "print (\"este sera el texto\", texto_hablar )"
   ]
  },
  {
   "cell_type": "code",
   "execution_count": 14,
   "metadata": {},
   "outputs": [],
   "source": [
    "#Obteniendo la voz finalmente\n",
    "# Fuente de invocacion de lectura https://docs.elevenlabs.io/api-reference/voices\n",
    "\n",
    "import requests\n",
    "\n",
    "CHUNK_SIZE = 1024\n",
    "url = \"https://api.elevenlabs.io/v1/text-to-speech/\" + selected_voice_id\n",
    "\n",
    "headers = {\n",
    "  \"Accept\": \"audio/mpeg\",\n",
    "  \"Content-Type\": \"application/json\",\n",
    "  \"xi-api-key\": eleven_api_key\n",
    "}\n",
    "\n",
    "data = {\n",
    "  \"text\": texto_hablar,\n",
    "  \"model_id\": \"eleven_multilingual_v2\",\n",
    "  \"voice_settings\": {\n",
    "    \"stability\": 0.4,\n",
    "    \"similarity_boost\": 1.0\n",
    "  }\n",
    "}\n",
    "\n",
    "response = requests.post(url, json=data, headers=headers, stream=True)\n",
    "\n",
    "#Esto creara un mp3 outpout \n",
    "with open('audiohablado3.mp3', 'wb') as f:\n",
    "    for chunk in response.iter_content(chunk_size=CHUNK_SIZE):\n",
    "        if chunk:\n",
    "            f.write(chunk)\n",
    "\n"
   ]
  },
  {
   "cell_type": "markdown",
   "metadata": {},
   "source": [
    "ejemplo de obtener voz\n",
    "https://docs.elevenlabs.io/api-reference/voices"
   ]
  },
  {
   "cell_type": "code",
   "execution_count": null,
   "metadata": {},
   "outputs": [],
   "source": [
    "import requests\n",
    "CHUNK_SIZE = 1024\n",
    "url = \"https://api.elevenlabs.io/v1/voices/\" + selected_voice_id\n",
    "\n",
    "headers = {\n",
    "  \"Accept\": \"application/json\",\n",
    "  \"xi-api-key\": eleven_api_key\n",
    "}\n",
    "\n",
    "response = requests.get(url, headers=headers)\n",
    "\n",
    "print(response.text)"
   ]
  },
  {
   "cell_type": "markdown",
   "metadata": {},
   "source": [
    "Ejemplo de obtener voz con una API Key"
   ]
  },
  {
   "cell_type": "code",
   "execution_count": 29,
   "metadata": {},
   "outputs": [],
   "source": [
    "import requests\n",
    "\n",
    "CHUNK_SIZE = 1024\n",
    "url = \"https://api.elevenlabs.io/v1/text-to-speech/\" + selected_voice_id \n",
    "\n",
    "headers = {\n",
    "  \"Accept\": \"audio/mpeg\",\n",
    "  \"Content-Type\": \"application/json\",\n",
    "  \"xi-api-key\": eleven_api_key\n",
    "}\n",
    "\n",
    "ss =\"hola\"\n",
    "\n",
    "data = {\n",
    "  \"text\": ss,\n",
    "  \"model_id\": \"eleven_monolingual_v1\",\n",
    "  \"voice_settings\": {\n",
    "    \"stability\": 0.5,\n",
    "    \"similarity_boost\": 0.5\n",
    "  }\n",
    "}\n",
    "\n",
    "response = requests.post(url, json=data, headers=headers)\n",
    "with open('output2.mp3', 'wb') as f:\n",
    "    for chunk in response.iter_content(chunk_size=CHUNK_SIZE):\n",
    "        if chunk:\n",
    "            f.write(chunk)\n"
   ]
  }
 ],
 "metadata": {
  "kernelspec": {
   "display_name": "USS2",
   "language": "python",
   "name": "python3"
  },
  "language_info": {
   "codemirror_mode": {
    "name": "ipython",
    "version": 3
   },
   "file_extension": ".py",
   "mimetype": "text/x-python",
   "name": "python",
   "nbconvert_exporter": "python",
   "pygments_lexer": "ipython3",
   "version": "3.12.0"
  }
 },
 "nbformat": 4,
 "nbformat_minor": 2
}
